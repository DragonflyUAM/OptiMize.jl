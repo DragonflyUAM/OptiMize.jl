{
 "cells": [
  {
   "cell_type": "markdown",
   "id": "cdfaa6b6",
   "metadata": {},
   "source": [
    "# Bracketing\n",
    "\n",
    "This is a technique to determine the local minimum within an interval. In the event a derivative does not exist, this type of technique works."
   ]
  },
  {
   "cell_type": "markdown",
   "id": "8761c1ee",
   "metadata": {},
   "source": [
    "## Utility Functions\n",
    "\n",
    "Below will setup a viewable plotting function."
   ]
  },
  {
   "cell_type": "code",
   "execution_count": 25,
   "id": "446ef7e3",
   "metadata": {},
   "outputs": [
    {
     "data": {
      "text/plain": [
       "plot_f (generic function with 1 method)"
      ]
     },
     "execution_count": 25,
     "metadata": {},
     "output_type": "execute_result"
    }
   ],
   "source": [
    "using Plots \n",
    "\n",
    "function plot_f(f, x, int_x, int_y)\n",
    "    y = f.(x)\n",
    "    plot(x, y)\n",
    "    \n",
    "    n_pts = length(int_x)\n",
    "    c = distinguishable_colors(n_pts)\n",
    "    scatter!(int_x, int_y, c=c)\n",
    "    \n",
    "    for i in 1:n_pts\n",
    "        val = string(i + parse(Int, 'a'))\n",
    "        annotate!(int_x, int_y + 0.1, val, c=c[i])\n",
    "    end\n",
    "end"
   ]
  },
  {
   "cell_type": "markdown",
   "id": "7b5f584e",
   "metadata": {},
   "source": [
    "## Types of Bracketing\n",
    "\n",
    "Let's start with a simple univariate bracketing method to find the local minimum. The univarite function must be convex, if it is not this method will not work (i.e., $e^x$ will fail).\n",
    "\n",
    "1. **bracket_univariate_minimum**\n",
    "    1. Inputs: a function, starting x position 0, s step size, and k expansion factor. \n",
    "    1. Outputs: a bracket interval [a,c]"
   ]
  },
  {
   "cell_type": "code",
   "execution_count": 26,
   "id": "6bfa48a1",
   "metadata": {},
   "outputs": [
    {
     "data": {
      "text/plain": [
       "bracket_univariate_minimum (generic function with 4 methods)"
      ]
     },
     "execution_count": 26,
     "metadata": {},
     "output_type": "execute_result"
    }
   ],
   "source": [
    "function bracket_univariate_minimum(f, x=0., s=1e-2, k=2.0)\n",
    "    # bracket upate\n",
    "    bracket_update(a, s) = [a + s, f(a + s)]\n",
    "    \n",
    "    # setup initial interval\n",
    "    a, ya = bracket_update(x, 0)\n",
    "    b, yb = bracket_update(a, s)\n",
    "    \n",
    "    # if b is greater than a, swap variables, and change sign of step size\n",
    "    if yb > ya\n",
    "        a, b = b, a\n",
    "        ya, yb = yb, ya\n",
    "        s *= -1\n",
    "    end\n",
    "    \n",
    "    c, yc = 0, 0\n",
    "    anim = @animate for i in 1:100\n",
    "        c, yc = bracket_update(b, s)\n",
    "        rng = range(-5, 5, 100)\n",
    "        plot_f(f, rng, [a, b, c], [ya, yb, yc])\n",
    "    \n",
    "        if yc > yb\n",
    "            break\n",
    "        end\n",
    "        a, ya, b, yb = b, yb, c, yc\n",
    "        s *= k\n",
    "    end\n",
    "    return a > c ? (c, a) : (a, c), anim\n",
    "end"
   ]
  },
  {
   "cell_type": "code",
   "execution_count": 27,
   "id": "cdf62b9b",
   "metadata": {},
   "outputs": [
    {
     "data": {
      "text/plain": [
       "f (generic function with 1 method)"
      ]
     },
     "execution_count": 27,
     "metadata": {},
     "output_type": "execute_result"
    }
   ],
   "source": [
    "f(x) = sin(x)"
   ]
  },
  {
   "cell_type": "code",
   "execution_count": 28,
   "id": "7a4d4309",
   "metadata": {},
   "outputs": [
    {
     "ename": "LoadError",
     "evalue": "ArgumentError: invalid base 10 digit 'a'",
     "output_type": "error",
     "traceback": [
      "ArgumentError: invalid base 10 digit 'a'",
      "",
      "Stacktrace:",
      " [1] parse(::Type{Int64}, c::Char; base::Int64)",
      "   @ Base ./parse.jl:46",
      " [2] parse(::Type{Int64}, c::Char)",
      "   @ Base ./parse.jl:40",
      " [3] plot_f(f::Function, x::StepRangeLen{Float64, Base.TwicePrecision{Float64}, Base.TwicePrecision{Float64}, Int64}, int_x::Vector{Float64}, int_y::Vector{Float64})",
      "   @ Main ./In[25]:12",
      " [4] macro expansion",
      "   @ ./In[26]:20 [inlined]",
      " [5] macro expansion",
      "   @ ~/.julia/packages/Plots/sxUvK/src/animation.jl:251 [inlined]",
      " [6] bracket_univariate_minimum(f::typeof(f), x::Float64, s::Float64, k::Float64)",
      "   @ Main ./In[26]:17",
      " [7] bracket_univariate_minimum(f::Function)",
      "   @ Main ./In[26]:3",
      " [8] top-level scope",
      "   @ In[28]:1"
     ]
    }
   ],
   "source": [
    "interval, anim = bracket_univariate_minimum(f)"
   ]
  },
  {
   "cell_type": "code",
   "execution_count": 20,
   "id": "f943bb79",
   "metadata": {},
   "outputs": [
    {
     "name": "stderr",
     "output_type": "stream",
     "text": [
      "\u001b[36m\u001b[1m[ \u001b[22m\u001b[39m\u001b[36m\u001b[1mInfo: \u001b[22m\u001b[39mSaved animation to /Users/dakre/work/JuliaOptiMize/tmp.gif\n"
     ]
    },
    {
     "data": {
      "text/html": [
       "<img src=\"data:image/gif;base64,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\" />"
      ],
      "text/plain": [
       "Plots.AnimatedGif(\"/Users/dakre/work/JuliaOptiMize/tmp.gif\")"
      ]
     },
     "execution_count": 20,
     "metadata": {},
     "output_type": "execute_result"
    }
   ],
   "source": [
    "gif(anim, fps = 5)"
   ]
  },
  {
   "cell_type": "code",
   "execution_count": null,
   "id": "55976114",
   "metadata": {},
   "outputs": [],
   "source": []
  }
 ],
 "metadata": {
  "kernelspec": {
   "display_name": "Julia 1.9.3",
   "language": "julia",
   "name": "julia-1.9"
  },
  "language_info": {
   "file_extension": ".jl",
   "mimetype": "application/julia",
   "name": "julia",
   "version": "1.9.3"
  }
 },
 "nbformat": 4,
 "nbformat_minor": 5
}

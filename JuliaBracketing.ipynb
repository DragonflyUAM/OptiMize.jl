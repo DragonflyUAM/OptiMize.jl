{
 "cells": [
  {
   "cell_type": "markdown",
   "id": "42956a3a",
   "metadata": {},
   "source": [
    "# Bracketing\n",
    "\n",
    "This is a technique to determine the local minimum within an interval. In the event a derivative does not exist, this type of technique works."
   ]
  },
  {
   "cell_type": "markdown",
   "id": "425805ac",
   "metadata": {},
   "source": [
    "## Utility Functions\n",
    "\n",
    "Below will setup a viewable plotting function."
   ]
  },
  {
   "cell_type": "code",
   "execution_count": 1,
   "id": "752d3e25",
   "metadata": {},
   "outputs": [
    {
     "data": {
      "text/plain": [
       "plot_f (generic function with 1 method)"
      ]
     },
     "execution_count": 1,
     "metadata": {},
     "output_type": "execute_result"
    }
   ],
   "source": [
    "using Plots \n",
    "\n",
    "function plot_f(f, x, int_x, int_y)\n",
    "    y = f.(x)\n",
    "    plot(x, y)\n",
    "    \n",
    "    n_pts = length(int_x)\n",
    "    c = distinguishable_colors(n_pts)\n",
    "    for i in 1:n_pts\n",
    "        l = Char(Int('a') + i - 1)\n",
    "        scatter!([int_x[i]], [int_y[i]], c=c[i], label=l)\n",
    "    end\n",
    "end"
   ]
  },
  {
   "cell_type": "markdown",
   "id": "58560164",
   "metadata": {},
   "source": [
    "## Types of Bracketing\n",
    "\n",
    "Let's start with a simple univariate bracketing method to find the local minimum. The univarite function must be convex, if it is not this method will not work (i.e., $e^x$ will fail).\n",
    "\n",
    "1. **bracket_univariate_minimum**\n",
    "    1. Inputs: a function, starting x position 0, s step size, and k expansion factor. \n",
    "    1. Outputs: a bracket interval [a,c]"
   ]
  },
  {
   "cell_type": "code",
   "execution_count": 2,
   "id": "3f01715f",
   "metadata": {},
   "outputs": [
    {
     "data": {
      "text/plain": [
       "bracket_univariate_minimum (generic function with 4 methods)"
      ]
     },
     "execution_count": 2,
     "metadata": {},
     "output_type": "execute_result"
    }
   ],
   "source": [
    "function bracket_univariate_minimum(f, x=0., s=1e-2, k=2.0)\n",
    "    # bracket upate\n",
    "    bracket_update(a, s) = [a + s, f(a + s)]\n",
    "    \n",
    "    # setup initial interval\n",
    "    a, ya = bracket_update(x, 0)\n",
    "    b, yb = bracket_update(a, s)\n",
    "    \n",
    "    # if b is greater than a, swap variables, and change sign of step size\n",
    "    if yb > ya\n",
    "        a, b = b, a\n",
    "        ya, yb = yb, ya\n",
    "        s *= -1\n",
    "    end\n",
    "    \n",
    "    c, yc = 0, 0\n",
    "    anim = @animate for i in 1:100\n",
    "        c, yc = bracket_update(b, s)\n",
    "        \n",
    "        plot_f(f, range(-5, 5, 100), [a, b, c], [ya, yb, yc])\n",
    "    \n",
    "        if yc > yb\n",
    "            break\n",
    "        end\n",
    "        a, ya, b, yb = b, yb, c, yc\n",
    "        s *= k\n",
    "    end\n",
    "    return a > c ? (c, a) : (a, c), anim\n",
    "end"
   ]
  },
  {
   "cell_type": "code",
   "execution_count": 3,
   "id": "613da6c0",
   "metadata": {},
   "outputs": [
    {
     "data": {
      "text/plain": [
       "f (generic function with 1 method)"
      ]
     },
     "execution_count": 3,
     "metadata": {},
     "output_type": "execute_result"
    }
   ],
   "source": [
    "f(x) = sin(x)"
   ]
  },
  {
   "cell_type": "code",
   "execution_count": 4,
   "id": "07068209",
   "metadata": {},
   "outputs": [
    {
     "name": "stdout",
     "output_type": "stream",
     "text": [
      "Bracket minimum search(-2.55, -0.6300000000000001)\n"
     ]
    }
   ],
   "source": [
    "interval, anim = bracket_univariate_minimum(f)\n",
    "println(\"Bracket minimum search\", interval)"
   ]
  },
  {
   "cell_type": "code",
   "execution_count": 5,
   "id": "7e8f6107",
   "metadata": {},
   "outputs": [
    {
     "name": "stderr",
     "output_type": "stream",
     "text": [
      "\u001b[36m\u001b[1m[ \u001b[22m\u001b[39m\u001b[36m\u001b[1mInfo: \u001b[22m\u001b[39mSaved animation to /Users/dakre/work/JuliaOptiMize/tmp.gif\n"
     ]
    },
    {
     "data": {
      "text/html": [
       "<img src=\"data:image/gif;base64,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\" />"
      ],
      "text/plain": [
       "Plots.AnimatedGif(\"/Users/dakre/work/JuliaOptiMize/tmp.gif\")"
      ]
     },
     "execution_count": 5,
     "metadata": {},
     "output_type": "execute_result"
    }
   ],
   "source": [
    "gif(anim, fps = 4)"
   ]
  },
  {
   "cell_type": "markdown",
   "id": "2a411706",
   "metadata": {},
   "source": [
    "2. **Fibonnaci Search**\n",
    "    1. In this type of search we essentially recursively call into fibonacci sequence to solve the problem breaking it into sub problems to be solved (this breaks the interval down by a third each step). \n",
    "    $$\n",
    "F_n\n",
    "= \n",
    "\\begin{cases}\n",
    "1 \\text{ if } n <= 2\\\\\n",
    "F_{n-1} + F_{n-2} \\text{ otherwise }\n",
    "\\end{cases}\n",
    "$$\n",
    "    2. Alternatively you can solve the fibonacci search by utilizing *binet's formula*\n",
    "        \n",
    "        $F_n = (Φ^n - (1 - Φ)^n) / √(5)$ where $Φ = (1 + √(5)) / 2 = 1.61803$ which is the *golden ratio*\n",
    "        \n",
    "        $s = F_n / F_{n-1} = (1 - √(5)) / (1 + √(5)) = -0.382$ where s is the ratio beween current and prior fibonacci values"
   ]
  },
  {
   "cell_type": "code",
   "execution_count": 6,
   "id": "51d88424",
   "metadata": {},
   "outputs": [
    {
     "data": {
      "text/plain": [
       "fibonacci_search (generic function with 1 method)"
      ]
     },
     "execution_count": 6,
     "metadata": {},
     "output_type": "execute_result"
    }
   ],
   "source": [
    "function fibonacci_search(func, a, b, n)\n",
    "    # Calculate the Fibonacci sequence up to n terms\n",
    "    fib = [0, 1]\n",
    "    for i in 3:n\n",
    "        push!(fib, fib[end] + fib[end-1])\n",
    "    end\n",
    "    \n",
    "    update_x1(a, b, i) = a + (b - a) * (fib[i - 2] / fib[i])\n",
    "    update_x2(a, b, i) = a + (b - a) * (fib[i - 1] / fib[i])\n",
    "    \n",
    "    # Define search points within the interval\n",
    "    x1 = update_x1(a, b, n)\n",
    "    x2 = update_x2(a, b, n)\n",
    "    \n",
    "    println(\"Initial ratios \", (fib[n - 2] / fib[n]), \" \", (fib[n - 1] / fib[n]))\n",
    "    \n",
    "    f1 = func(x1)\n",
    "    f2 = func(x2)\n",
    "    \n",
    "    rng = range(a, b, 100)\n",
    "\n",
    "    anim = @animate for i in n-1:-1:3\n",
    "        plot_f(func, rng, [x1, x2], [f1, f2])\n",
    "        \n",
    "        if f1 < f2\n",
    "            b, x2, f2 = x2, x1, f1\n",
    "            x1 = update_x1(a, b, i)\n",
    "            f1 = func(x1)\n",
    "        else\n",
    "            a, x1, f1 = x1, x2, f2\n",
    "            x2 = update_x2(a, b, i)\n",
    "            f2 = func(x2)\n",
    "        end\n",
    "    end\n",
    "\n",
    "    # Final step with only two remaining points\n",
    "    x3 = (a + b) / 2\n",
    "    f3 = func(x3)\n",
    "\n",
    "    return f1 < f1 ? (x1, f1) : (x2, f2), anim\n",
    "end"
   ]
  },
  {
   "cell_type": "code",
   "execution_count": 7,
   "id": "90b807de",
   "metadata": {},
   "outputs": [
    {
     "name": "stdout",
     "output_type": "stream",
     "text": [
      "Initial ratios 0.38235294117647056 0.6176470588235294\n",
      "Minimum at x = -2.3529411764705888, f(x) = -0.22837370242214572\n"
     ]
    }
   ],
   "source": [
    "f(x) = x^2 + 5x + 6\n",
    "\n",
    "(min_x, min_value), anim = fibonacci_search(f, -10., 10., 10)\n",
    "println(\"Minimum at x = $min_x, f(x) = $min_value\")"
   ]
  },
  {
   "cell_type": "code",
   "execution_count": 8,
   "id": "20ee84d4",
   "metadata": {},
   "outputs": [
    {
     "name": "stderr",
     "output_type": "stream",
     "text": [
      "\u001b[36m\u001b[1m[ \u001b[22m\u001b[39m\u001b[36m\u001b[1mInfo: \u001b[22m\u001b[39mSaved animation to /Users/dakre/work/JuliaOptiMize/tmp.gif\n"
     ]
    },
    {
     "data": {
      "text/html": [
       "<img src=\"data:image/gif;base64,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\" />"
      ],
      "text/plain": [
       "Plots.AnimatedGif(\"/Users/dakre/work/JuliaOptiMize/tmp.gif\")"
      ]
     },
     "execution_count": 8,
     "metadata": {},
     "output_type": "execute_result"
    }
   ],
   "source": [
    "gif(anim, fps = 4)"
   ]
  },
  {
   "cell_type": "markdown",
   "id": "45cb2724",
   "metadata": {},
   "source": [
    "3. **Golden Search**\n",
    "    1. Instead of generating a fibonacci sequence and then solve the search to n; lets solve using the golden ratio directly."
   ]
  },
  {
   "cell_type": "code",
   "execution_count": 9,
   "id": "2cda0252",
   "metadata": {},
   "outputs": [
    {
     "data": {
      "text/plain": [
       "golden_search (generic function with 1 method)"
      ]
     },
     "execution_count": 9,
     "metadata": {},
     "output_type": "execute_result"
    }
   ],
   "source": [
    "φ = Base.MathConstants.golden\n",
    "\n",
    "function golden_search(func, a, b, n)    \n",
    "    ρ = φ - 1 # φ defined as the golden ratio in Julia\n",
    "\n",
    "    update_bracket(a, b) = ρ * a + (1 - ρ) * b\n",
    "    \n",
    "    d = update_bracket(b, a)\n",
    "    yd = func(d)\n",
    "    \n",
    "    rng = range(a, b, 100)\n",
    "    \n",
    "    anim = @animate for i in 1:n-1\n",
    "        c = update_bracket(a, b)\n",
    "        yc = func(c)\n",
    "        \n",
    "        plot_f(func, rng, [a, b], [yc, yd])\n",
    "        \n",
    "        if yc < yd\n",
    "            b, d, yd = d, c, yc\n",
    "        else\n",
    "            a, b = b, c\n",
    "        end\n",
    "    end\n",
    "    \n",
    "    return a < b ? (a, b) : (b, a), anim\n",
    "end"
   ]
  },
  {
   "cell_type": "code",
   "execution_count": 10,
   "id": "9c993acc",
   "metadata": {},
   "outputs": [
    {
     "name": "stdout",
     "output_type": "stream",
     "text": [
      "Golden search interval (-0.13155617496424915, 0.1315561749642482)\n"
     ]
    }
   ],
   "source": [
    "f(x) = x^2 + sin(x)^3 / x\n",
    "\n",
    "interval, anim = golden_search(f, -10., 10., 10)\n",
    "println(\"Golden search interval \", interval)"
   ]
  },
  {
   "cell_type": "code",
   "execution_count": 11,
   "id": "82eb4703",
   "metadata": {},
   "outputs": [
    {
     "name": "stderr",
     "output_type": "stream",
     "text": [
      "\u001b[36m\u001b[1m[ \u001b[22m\u001b[39m\u001b[36m\u001b[1mInfo: \u001b[22m\u001b[39mSaved animation to /Users/dakre/work/JuliaOptiMize/tmp.gif\n"
     ]
    },
    {
     "data": {
      "text/html": [
       "<img src=\"data:image/gif;base64,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\" />"
      ],
      "text/plain": [
       "Plots.AnimatedGif(\"/Users/dakre/work/JuliaOptiMize/tmp.gif\")"
      ]
     },
     "execution_count": 11,
     "metadata": {},
     "output_type": "execute_result"
    }
   ],
   "source": [
    "gif(anim, fps = 4)"
   ]
  },
  {
   "cell_type": "markdown",
   "id": "a8692be6",
   "metadata": {},
   "source": [
    "4. **Quadratic Fit**\n",
    "    1. In this type of search we seek solve a convex function via iterative fitting of a quadratic function. Following the similar fashion as before with bracketing, use three variables $x_1, x_2, x_3$ and then find the coefficients $a < b < c$ that go through points $(x_1, y_1), (x_2, y_2), (x_3, y_3)$\n",
    "    \n",
    "        $q(x) = a + b*x + c*x^2$\n",
    "\n",
    "        $y_1 = a + x_1*b + x_1*c^2$\n",
    "\n",
    "        $y_2 = a + x_2*b + x_2*c^2$\n",
    "\n",
    "        $y_3 = a + x_3*b + x_3*c^2$\n",
    "        \n",
    "    2. Setup a matrix describing these systems of equations\n",
    "\n",
    "    \\begin{equation}\n",
    "    [y_1, y_2, y_3] = \n",
    "    \\begin{pmatrix}\n",
    "      1 & x_1 & x_1^2 \\\\\n",
    "      1 & x_2 & x_2^2 \\\\\n",
    "      1 & x_3 & x_3^2 \n",
    "    \\end{pmatrix}\n",
    "    \\begin{pmatrix}\n",
    "    a \\\\ b \\\\ c\n",
    "    \\end{pmatrix}\n",
    "    \\end{equation}\n",
    "\n",
    "    3. To solve for the coefficients $p_1, p_2, p_3$ we'll have to invert the matrix (thus we need to enforce positive semidefinite on the points a, b, c)\n",
    "    \n",
    "     \\begin{equation}\n",
    "    [a, b, c] = \n",
    "    \\begin{pmatrix}\n",
    "      1 & x_1 & x_1^2 \\\\\n",
    "      1 & x_2 & x_2^2 \\\\\n",
    "      1 & x_3 & x_3^2 \n",
    "    \\end{pmatrix}^{-1}\n",
    "    \\begin{pmatrix}\n",
    "    y_1 \\\\ y_2 \\\\ y_3\n",
    "    \\end{pmatrix}\n",
    "    \\end{equation}   "
   ]
  },
  {
   "cell_type": "code",
   "execution_count": 12,
   "id": "09e74474",
   "metadata": {},
   "outputs": [
    {
     "data": {
      "text/plain": [
       "quadratic_fit_search (generic function with 1 method)"
      ]
     },
     "execution_count": 12,
     "metadata": {},
     "output_type": "execute_result"
    }
   ],
   "source": [
    "function quadratic_fit_search(func, a, c, n; ρ = φ - 1)\n",
    "    x1, x3 = a, c\n",
    "    x_min, y_min = 0, 0\n",
    "    rng = range(a, c, 100)\n",
    "    \n",
    "    update_bracket(u, v) = ρ * u + (1 - ρ) * v\n",
    "    \n",
    "    anim = @animate for i in 1:n\n",
    "        x2 = (a + c) / 2\n",
    "        \n",
    "        y1, y2, y3 = func(x1), func(x2), func(x3)\n",
    "        \n",
    "        A = [1 x1 x1^2; 1 x2 x2^2; 1 x3 x3^2]\n",
    "        B = [y1; y2; y3]\n",
    "        \n",
    "        X = A \\ B # inverse divide operation\n",
    "        \n",
    "        a, b, c = X\n",
    "        \n",
    "        # f = a + bx + cx^2\n",
    "        # df/dx = 0 -> 0 = b + 2cx \n",
    "        # -2cx = b -> x = -b / 2c\n",
    "        \n",
    "        x_min = -b / (2*c) # locate vertex describinig minimum\n",
    "        y_min = func(x_min)\n",
    "        \n",
    "        plot_f(func, rng, [x_min], [y_min])\n",
    "        \n",
    "        # true case:\n",
    "        # - evaluate output to midpoint, if it's less than midpoint take\n",
    "        # the lower of the x inputs which drove the midpoint output to be less \n",
    "        # than y2\n",
    "        # false case:\n",
    "        # - move in the opposite direction since y_min was greater than y2\n",
    "        if y_min < y2\n",
    "            if x_min < x2\n",
    "                x3 = update_bracket(x2, x3) # move left (x3 <- x2)\n",
    "            else\n",
    "                x1 = update_bracket(x2, x1) # move right (x1 <- x2)\n",
    "                #x1 = x2 # move right\n",
    "            end\n",
    "        else\n",
    "            if x_min < x2\n",
    "                x1 = update_bracket(x_min, x1) # move right (x1 <- x_min)\n",
    "            else\n",
    "                x3 = update_bracket(x_min, x3) # move left (x3 <- x_min)\n",
    "            end\n",
    "        end\n",
    "    end\n",
    "    \n",
    "    return x_min, y_min, anim\n",
    "end"
   ]
  },
  {
   "cell_type": "code",
   "execution_count": 13,
   "id": "6cdfe550",
   "metadata": {},
   "outputs": [
    {
     "name": "stdout",
     "output_type": "stream",
     "text": [
      "Quadratic search minimum 1.5241246455071333 2.0021766647085277\n"
     ]
    }
   ],
   "source": [
    "f(x) = cos(x)^2 + 2\n",
    "\n",
    "x_min, y_min, anim = quadratic_fit_search(f, -10., 10., 10)\n",
    "println(\"Quadratic search minimum \", x_min, \" \", y_min)"
   ]
  },
  {
   "cell_type": "code",
   "execution_count": 14,
   "id": "5f9a769c",
   "metadata": {},
   "outputs": [
    {
     "name": "stderr",
     "output_type": "stream",
     "text": [
      "\u001b[36m\u001b[1m[ \u001b[22m\u001b[39m\u001b[36m\u001b[1mInfo: \u001b[22m\u001b[39mSaved animation to /Users/dakre/work/JuliaOptiMize/tmp.gif\n"
     ]
    },
    {
     "data": {
      "text/html": [
       "<img src=\"data:image/gif;base64,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\" />"
      ],
      "text/plain": [
       "Plots.AnimatedGif(\"/Users/dakre/work/JuliaOptiMize/tmp.gif\")"
      ]
     },
     "execution_count": 14,
     "metadata": {},
     "output_type": "execute_result"
    }
   ],
   "source": [
    "gif(anim, fps = 4) # todo some overshooting occuring pending on function"
   ]
  },
  {
   "cell_type": "markdown",
   "id": "b7f63393",
   "metadata": {},
   "source": [
    "5. **Shubert-Piyavaskii Method**\n",
    "    1. Midpoint sampling\n",
    "        1. In this function we iteratively sample the midpoint of a bounds $[a, b]$ by taking the midpoint $(a + b) / 2$\n",
    "        2. We then construct a lower bounds function based on the Lipshitz constant $l$ where this describe the slope of a line intersecting with the midpoint-- $f(x_0) - l(x - x_0)$ for x > x_0 and $f(x_1) + l(x + x_0)$ for x < x_0\n",
    "        3. Update uncetainty interval $[x^i - 1/l * (y_min - y^i), x^i + 1/l * (y_min + y^i)]$\n",
    "        4. Repeat (1) through (3) until convergence is met (typically minimum falling within a threshold defined by ε)"
   ]
  },
  {
   "cell_type": "code",
   "execution_count": 15,
   "id": "6cb2aed3",
   "metadata": {},
   "outputs": [],
   "source": [
    "# TODO code"
   ]
  },
  {
   "cell_type": "markdown",
   "id": "eb07615d",
   "metadata": {},
   "source": [
    "6. **Bisection Method**\n",
    "    1. This method is used to find roots of a function by taking the function $f(x)$ and evaluating the derivative at zero $f'(x) = 0$ which determines a local minimum\n",
    "    2. The function requires a bracket [a,b] where a root is known to exist\n",
    "    3. Main intuition here is if $f(a)$ sign not equal to $f(b)$ then a root is guaranteed to exist\n",
    "    4. Convergence guarantee on $ln(|a - b| / ε)$\n",
    "    5. a & b must be on opposite side of zero "
   ]
  },
  {
   "cell_type": "code",
   "execution_count": 16,
   "id": "47e4e272",
   "metadata": {},
   "outputs": [],
   "source": [
    "# TODO code"
   ]
  }
 ],
 "metadata": {
  "kernelspec": {
   "display_name": "Julia 1.9.3",
   "language": "julia",
   "name": "julia-1.9"
  },
  "language_info": {
   "file_extension": ".jl",
   "mimetype": "application/julia",
   "name": "julia",
   "version": "1.9.3"
  }
 },
 "nbformat": 4,
 "nbformat_minor": 5
}

{
 "cells": [
  {
   "cell_type": "markdown",
   "metadata": {},
   "source": [
    "# Local Descent\n",
    "\n",
    "In the general sense, local descent methods provide an optimization framework for solving multivariate functions to converge to some local minima based on some convergence criterion (i.e., gradient descent).\n",
    "\n",
    "A common approach is to incrementally improve the solution by taking steps in the descent direction (e.g., negative of gradient) of the function at the current point until a terminal or convergence condition is reached.\n",
    "\n",
    "$x_{k+t} = x_k + α_k * d_k$\n",
    "\n",
    "where $x_k$ is the current point, $α_k$ is the step size, and $d_k$ is the descent direction."
   ]
  },
  {
   "cell_type": "markdown",
   "metadata": {},
   "source": [
    "## Line Search\n",
    "\n",
    "In this first form of local descent, we will use a line search to find the optimal step size $α_k$ followed by computing the next point $x_{k+t}$.\n",
    "\n",
    "$minimize \\space f(x_k + α_k * d_k)$\n",
    "\n",
    "note this is still a univariate function."
   ]
  },
  {
   "cell_type": "markdown",
   "metadata": {},
   "source": [
    "### Line Search via Backtracking\n",
    "\n",
    "In this type of algorithm we seek to find the optimum α for a direcitonal descent method.\n",
    "        \n",
    "In order to do this we need to define the two Wolfe Conditions:\n",
    "\n",
    "1. Sufficient decrease in α\n",
    "    1. $f(x_k) <= f(x) + α * t * dot(df(x), d)$ where $x$ is the design point, $d$ is the direction, and $t$ is the step size\n",
    "2. Curvature condition\n",
    "    1. $|∇d(k) * f(x(k+1))| ≤ −σ * dot(∇d(k), f(x(k)))$ where $σ$ is a shallowness indicator typically between $β < σ < 1$\n",
    "\n",
    "These two conditions form the strong backtracking algorithm. In the below "
   ]
  },
  {
   "cell_type": "code",
   "execution_count": 1,
   "metadata": {},
   "outputs": [],
   "source": [
    "using Plots\n",
    "using LinearAlgebra\n",
    "using OptiMize: complex_step, plot_min_of_f"
   ]
  },
  {
   "cell_type": "code",
   "execution_count": 2,
   "metadata": {},
   "outputs": [
    {
     "data": {
      "text/plain": [
       "line_search_backtracking (generic function with 1 method)"
      ]
     },
     "execution_count": 2,
     "metadata": {},
     "output_type": "execute_result"
    }
   ],
   "source": [
    "function line_search_backtracking(f, df, x, d, n; α=0.5, β=0.8, σ=0.9)\n",
    "    t = 1.0\n",
    "    \n",
    "    for i in 1:n\n",
    "        # Calculate x_k update\n",
    "        x_k = x + t * d\n",
    "\n",
    "        # Caclulate both wolfe conditions\n",
    "        armijo_condition = f(x_k) <= f(x) .+ α * t * dot(df(x), d)\n",
    "        curvature_condition = abs(dot(df(x_k), d)) <= -σ * dot(df(x), d)\n",
    "        \n",
    "        # Terminate optimization of alpha if wolfe conditions are met\n",
    "        if armijo_condition && curvature_condition\n",
    "            return t\n",
    "        end\n",
    "        \n",
    "        # Update step size by beta\n",
    "        t *= β\n",
    "    end\n",
    "    \n",
    "    return t\n",
    "end"
   ]
  },
  {
   "cell_type": "code",
   "execution_count": 3,
   "metadata": {},
   "outputs": [
    {
     "name": "stdout",
     "output_type": "stream",
     "text": [
      "Optimal step size: 0.40960000000000013\n"
     ]
    }
   ],
   "source": [
    "# Define the function and its derivative\n",
    "f(x) = x.^2\n",
    "df(x) = complex_step(f, x)\n",
    "\n",
    "# Initial guess and search direction\n",
    "x0 = [4.]\n",
    "d = -df(x0) # Search direction\n",
    "\n",
    "# Perform the line search\n",
    "step_size = line_search_backtracking(f, df, x0, d, 10)\n",
    "\n",
    "println(\"Optimal step size: $step_size\")"
   ]
  },
  {
   "cell_type": "code",
   "execution_count": null,
   "metadata": {},
   "outputs": [],
   "source": []
  }
 ],
 "metadata": {
  "kernelspec": {
   "display_name": "Julia 1.9.3",
   "language": "julia",
   "name": "julia-1.9"
  },
  "language_info": {
   "file_extension": ".jl",
   "mimetype": "application/julia",
   "name": "julia",
   "version": "1.9.3"
  }
 },
 "nbformat": 4,
 "nbformat_minor": 2
}

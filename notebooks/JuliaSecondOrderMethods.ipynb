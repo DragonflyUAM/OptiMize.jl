{
 "cells": [
  {
   "cell_type": "markdown",
   "metadata": {},
   "source": [
    "# Second Order Methods\n",
    "\n",
    "Second order methods provide for both step size and direction as opposed to just direction in first order methods."
   ]
  },
  {
   "cell_type": "markdown",
   "metadata": {},
   "source": [
    "## Netwon's Method\n",
    "\n",
    "We shall use a quadratic approximation about a design point (e.g., using second order taylor series expansion) to obtain an approximate step size as well as derivate to discern the direction to take for minimizing the function. "
   ]
  },
  {
   "cell_type": "markdown",
   "metadata": {},
   "source": [
    "\n",
    "### Univariate Case\n",
    "\n",
    "**Second order taylor series expansion**\n",
    "\n",
    "$q(x) = f(x^k) + (x - x^k) * f'(x^k) + (x - x^k)^2/2 * f''(x^k)$ where $x^k$ is our design point\n",
    "\n",
    "\n",
    "**Set derivative to zero and solve for root == Newton's method**\n",
    "\n",
    "- $d/dx(q(x)) = f' * (x^k) + (x - x^k) * f''(x^k) = 0$\n",
    "- $x^{(k+1)} = x^k - f'(x^k) / f''(x^k)$\n",
    "\n",
    "\n",
    "**Note** instability can occur when the second order derivative is zero or very close to it (may lead to oscilliations)"
   ]
  },
  {
   "cell_type": "markdown",
   "metadata": {},
   "source": [
    "### Multivariate Case\n",
    "\n",
    "**Second order taylor series expansion**\n",
    "\n",
    "$f(x) = q(x) = f(x^k) + (g^k)^T * (x - x^k) + 1/2 * (x -x^k)^T * H^k * (x - x^k)$ where $g^k$ and $H^k$ are the gradient and Hessian at $x^k$\n",
    "\n",
    "**Set gradient to zero and solve == Newton's Method**\n",
    "\n",
    "- $∇q(x) = g^k + H^k * (x - x^k) = 0$\n",
    "- $x^{(k+1)} = x^k - (H^k)^{-1} * g^k$"
   ]
  },
  {
   "cell_type": "code",
   "execution_count": 11,
   "metadata": {},
   "outputs": [
    {
     "data": {
      "text/plain": [
       "newtons_method (generic function with 2 methods)"
      ]
     },
     "metadata": {},
     "output_type": "display_data"
    }
   ],
   "source": [
    "using LinearAlgebra\n",
    "\n",
    "function newtons_method(∇f, H, x, ϵ, k_max)\n",
    "    k, Δ = 1, fill(Inf, length(x))\n",
    "    while norm(Δ) > ϵ && k < k_max\n",
    "        Δ = -H(x) \\ ∇f(x)\n",
    "        x += Δ\n",
    "        k += 1\n",
    "    end\n",
    "    return x\n",
    "end"
   ]
  },
  {
   "cell_type": "code",
   "execution_count": 12,
   "metadata": {},
   "outputs": [
    {
     "name": "stdout",
     "output_type": "stream",
     "text": [
      "x = [0.9999999999999982, 3.0000000000000018]\n"
     ]
    }
   ],
   "source": [
    "# Example - booth function \n",
    "booth(x) = (x[1] + 2x[2] - 7)^2 + (2x[1] + x[2] - 5)^2\n",
    "\n",
    "# Gradient of booth function\n",
    "∇booth(x) = [10x[1] + 8x[2] - 34, 8x[1] + 10x[2] - 38]\n",
    "\n",
    "# Hessian of booth function\n",
    "Hbooth(x) = [10 8; 8 10]\n",
    "\n",
    "# Initial guess\n",
    "x0 = [9., 8.]\n",
    "x = newtons_method(∇booth, Hbooth, x0, 1e-6, 1000)\n",
    "\n",
    "println(\"x = \", x)"
   ]
  },
  {
   "cell_type": "markdown",
   "metadata": {},
   "source": [
    "## Secant Method\n",
    "\n",
    "Unknown second order derivative -> approximate using difference of prior two derivatives.\n",
    "\n",
    "**univariate case**\n",
    "\n",
    "- $f''(x^k) = (f'(x^k) - f'(x^{(k-1)})) / (x^k - x^{(k-1)})$\n",
    "- $x^{(k+1)} = x^k - (x^k - x^{(k-1)}) / (f'(x^k)) - f'(x^{(k-1)}) * f'(x^k)$\n",
    "\n",
    "As one can see this requires at least 2 iterations to acquire a second order approximation."
   ]
  },
  {
   "cell_type": "markdown",
   "metadata": {},
   "source": [
    "## Quasi-Newton Methods\n",
    "\n",
    "$x^{(k+1)} = x^k - \\alpha^k * Q^k * g^k$\n",
    "\n",
    "where $α^k$ is the step factor, $Q^k$ approximates the invse of the Hessian at the design point $x^k$\n",
    "\n",
    "- $\\gamma^{k+1} = g^{k+1} - g^k$\n",
    "- $\\delta^{k+1} = x^{k+1} - x^{k}$\n",
    "\n",
    "$Q^k$ starts at an identity matrix then gets updated each iteration\n",
    "\n",
    "### Davidon-Fletcher-Powell (DFP)\n",
    "\n",
    "$Q = Q - (Q * \\gamma * \\gamma^T * Q) / (\\gamma^T * Q * \\gamma) + (\\delta * \\delta^T) / (\\delta^T * \\gamma)$\n",
    "\n",
    "- Q symmetric positive definite\n",
    "- If $f(x) = 1/2 * x^T * A * x + b^T * x + c$ then $Q = A^{-1}$\n",
    "- For high dimensional problems this method can require an expensive amount of memory and compute\n",
    "\n",
    "### Broyden-Fletch-Goldfarb-Shanno (BFGS)\n",
    "\n",
    "Alternative to DFP using an approximate line search but still uses nxn dense matrix... L-BFGS stores m values (L = limited space) vs. full hessian.\n",
    "\n",
    "$Q = Q - (\\delta * \\gamma^T * Q + Q * \\gamma * \\delta^T) / (\\delta^T * \\gamma) + (1 + (\\gamma^T * Q * \\gamma) / (\\delta^T * \\gamma)) * (\\delta * \\delta^T) / (\\delta^T * \\gamma)$"
   ]
  },
  {
   "cell_type": "code",
   "execution_count": null,
   "metadata": {},
   "outputs": [],
   "source": [
    "# TODO code"
   ]
  }
 ],
 "metadata": {
  "kernelspec": {
   "display_name": "Julia 1.10.0",
   "language": "julia",
   "name": "julia-1.10"
  },
  "language_info": {
   "file_extension": ".jl",
   "mimetype": "application/julia",
   "name": "julia",
   "version": "1.10.0"
  }
 },
 "nbformat": 4,
 "nbformat_minor": 2
}

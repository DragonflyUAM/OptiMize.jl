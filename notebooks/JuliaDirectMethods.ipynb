{
 "cells": [
  {
   "cell_type": "markdown",
   "metadata": {},
   "source": [
    "# Direct Methods\n",
    "\n",
    "Zero-order method used to find local minima. Useful for when there isn't a derivative information for some function.\n",
    "\n",
    "## Cyclic Coordinate Search\n",
    "\n",
    "First idea is to search along coordinate directions (similar to line search) starting from an initial $x^k$. Using a basis function to perform a line search along.\n",
    "\n",
    "## Powell's Method\n",
    "\n",
    "Next idea is to search in directions that are not orthogonal to one another (helpful for long and/or narrow valleys of descent). Algorihm is similar to cyclic except change in direction to form new line search on each iteration. Key insight is that it will drop oldest search direction and utilize an overall direction of progress from the first point. Algorithm recommends to reset the direction for every $N$ steps.\n",
    "\n",
    "## Hooke-Jeeves\n",
    "\n",
    "Traverse the seach space based on small steps in each coordinate direction defined by $\\alpha$ and evaluate $f(x)$ and $f(x +- \\alpha * e^i)$. It then accepts improvements given the current $\\alpha$ or otherwise will decrease $\\alpha$ and resume search to convergence criteria is met.\n",
    "\n",
    "## Generalized Pattern Search\n",
    "\n",
    "Generalizes Hooke-Jeeves to search in arbitrary directions according to a pattern $P$ defined by directions $D$ about an anchor point $X$ according to a step size $\\alpha$.\n",
    "\n",
    "$P = {x + \\alpha * d for each d in D}$\n",
    "\n",
    "smaller time cost than hooke-jeeves 2n > n + 1"
   ]
  },
  {
   "cell_type": "markdown",
   "metadata": {},
   "source": [
    "## Nelder Mead Simplex Method\n",
    "\n",
    "One of the most popular direct methods of optimization which uses a simplex to traverse the space in search of a minimum (e.g., uses a tetrahedron to n-dim space... 1d = line, 2d = triangle, etc.). Similar to Hooke-Jeeves the simplex can adjust in size and move around the space to find the local minimum. The simplex consist of points $x^1 to x^{n+1} where x_h is the highest vertex, x_s is the second highest, and x_l is the lowest$. The algorithm will be shown below but the method contains four crucial elements:\n",
    "\n",
    "1. Reflection: Reflect highest point over the centroid $x_r = x + \\alpha * (x - x_h)$\n",
    "1. Expansion: Expand reflected point further from the centroid $x_e = x + \\beta * (x_r - x)$\n",
    "1. Contraction: Shrink simplex moving away from worst point $x_c = x + \\gamma * (x_h - x)$\n",
    "1. Shrinkage: Move all points towards best point by halving the separation distance"
   ]
  },
  {
   "cell_type": "code",
   "execution_count": 1,
   "metadata": {},
   "outputs": [
    {
     "data": {
      "text/plain": [
       "nelder_mead (generic function with 2 methods)"
      ]
     },
     "metadata": {},
     "output_type": "display_data"
    }
   ],
   "source": [
    "using Plots\n",
    "using LinearAlgebra\n",
    "using Statistics\n",
    "using OptiMize: plot_min_of_f\n",
    "\n",
    "function nelder_mead(f, S, ϵ, px=[]; α=1.0, β=2.0, γ=0.5)\n",
    "    Δ, y_arr = Inf, f.(S)\n",
    "    anim = @animate while Δ > ϵ\n",
    "        # sort function evaluation from smallest to largest along direction\n",
    "        p = sortperm(y_arr)\n",
    "\n",
    "        # create assignments for the simplex\n",
    "        S, y_arr = S[p], y_arr[p]\n",
    "        xl, yl = S[1], y_arr[1]\n",
    "        xh, yh = S[end], y_arr[end]\n",
    "        xs, ys = S[end-1], y_arr[end-1]\n",
    "        xm = mean(S[1:end-1, :])\n",
    "\n",
    "        # compute reflection point\n",
    "        xr = xm + α * (xm - xh)\n",
    "        yr = f(xr)\n",
    "\n",
    "        # first case: compare reflection point to lowest point\n",
    "        if yr < yl\n",
    "            # compute expansion point\n",
    "            xe = xm + β * (xr - xm)\n",
    "            ye = f(xe)\n",
    "\n",
    "            # set simplex xh based on expansion point or reflection point (whichever is lower)\n",
    "            S[end], y_arr[end] = ye < yr ? (xe, ye) : (xr, yr)\n",
    "        \n",
    "        # second case: compare reflection point to second highest point\n",
    "        elseif yr >= ys\n",
    "            # check if reflection point is lower than highest point\n",
    "            if yr < yh\n",
    "                # set simplex xh based on reflection point\n",
    "                xh, yh, S[end], y_arr[end] = xr, yr, xr, yr\n",
    "            end\n",
    "            # compute contraction point\n",
    "            xc = xm + γ * (xh - xm)\n",
    "            yc = f(xc)\n",
    "\n",
    "            # check if contraction point is lower than highest point\n",
    "            if yc > yh\n",
    "                # shrink simplex in half towards lowest point\n",
    "                for i in 2 : length(y_arr)\n",
    "                    S[i] = (S[i] + xl) / 2\n",
    "                    y_arr[i] = f(S[i])\n",
    "                end\n",
    "            else\n",
    "                # set the simplex xh to the contraction point\n",
    "                S[end], y_arr[end] = xc, yc\n",
    "            end\n",
    "\n",
    "        else\n",
    "            # set the simplex xh to the reflection point\n",
    "            S[end], y_arr[end] = xr, yr\n",
    "        end\n",
    "\n",
    "        pts = cat(S, y_arr, dims=2)\n",
    "        plot_min_of_f(f, px, pts)\n",
    "\n",
    "        Δ = std(y_arr, corrected=false)\n",
    "    end\n",
    "    # return best point = lowest point\n",
    "    return S[argmin(y_arr)], anim\n",
    "end"
   ]
  },
  {
   "cell_type": "code",
   "execution_count": 2,
   "metadata": {},
   "outputs": [
    {
     "name": "stdout",
     "output_type": "stream",
     "text": [
      "x = [-0.0005567023508396584, 0.0009631864268001087]\n"
     ]
    },
    {
     "name": "stderr",
     "output_type": "stream",
     "text": [
      "┌ Info: Saved animation to /tmp/jl_ITofQjaruT.gif\n",
      "└ @ Plots /home/dakre/.julia/packages/Plots/sxUvK/src/animation.jl:156\n"
     ]
    },
    {
     "data": {
      "text/html": [
       "<img src=\"data:image/gif;base64,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\" />"
      ],
      "text/plain": [
       "Plots.AnimatedGif(\"/tmp/jl_ITofQjaruT.gif\")"
      ]
     },
     "metadata": {},
     "output_type": "display_data"
    }
   ],
   "source": [
    "f(x) = sum(x.^2)\n",
    "S = [rand(2) for i in 1:3]\n",
    "ϵ = 1e-6\n",
    "\n",
    "px = range(-5, 5, length=100)\n",
    "x, anim = nelder_mead(f, S, ϵ, px)\n",
    "\n",
    "println(\"x = $x\")\n",
    "\n",
    "gif(anim, fps=5)"
   ]
  },
  {
   "cell_type": "code",
   "execution_count": 3,
   "metadata": {},
   "outputs": [],
   "source": []
  }
 ],
 "metadata": {
  "kernelspec": {
   "display_name": "Julia 1.10.0",
   "language": "julia",
   "name": "julia-1.10"
  },
  "language_info": {
   "file_extension": ".jl",
   "mimetype": "application/julia",
   "name": "julia",
   "version": "1.10.0"
  }
 },
 "nbformat": 4,
 "nbformat_minor": 2
}

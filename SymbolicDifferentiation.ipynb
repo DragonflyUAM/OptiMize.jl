{
 "cells": [
  {
   "cell_type": "code",
   "execution_count": 1,
   "id": "7d850575-96c8-4412-ab5a-e2b640d4f45a",
   "metadata": {},
   "outputs": [
    {
     "data": {
      "text/plain": [
       "1/2 + 2*x + sin(x)/x^2 - cos(x)/x"
      ]
     },
     "execution_count": 1,
     "metadata": {},
     "output_type": "execute_result"
    }
   ],
   "source": [
    "using SymEngine\n",
    "\n",
    "@vars x; # define x as a symbolic variable\n",
    "\n",
    "f = x^2 + x/2 - sin(x) / x;\n",
    "\n",
    "diff(f, x)"
   ]
  }
 ],
 "metadata": {
  "kernelspec": {
   "display_name": "Julia 1.9.1",
   "language": "julia",
   "name": "julia-1.9"
  },
  "language_info": {
   "file_extension": ".jl",
   "mimetype": "application/julia",
   "name": "julia",
   "version": "1.9.1"
  }
 },
 "nbformat": 4,
 "nbformat_minor": 5
}
